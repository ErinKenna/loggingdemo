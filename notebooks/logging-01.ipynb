{
 "cells": [
  {
   "cell_type": "markdown",
   "metadata": {},
   "source": [
    "# Why use logging?\n",
    "- Easy to format with useful information\n",
    "- Can have levels/granularity of urgency\n",
    "- Can use these levels to control the verbosity of log output\n",
    "- Capture warnings() thrown from other modules\n",
    "- Easy to direct logging output to: console, file(s), email, queues \n",
    "- Integrate your messages with logging from other modules\n",
    "- And not having to go back and clean out print() statements from your code is a favourite."
   ]
  },
  {
   "cell_type": "markdown",
   "metadata": {},
   "source": [
    "*Where to get information:*  \n",
    "https://docs.python.org/3/library/logging.handlers.html (includes links to tutorials and cookbook)  \n",
    "https://docs.python-guide.org/writing/logging/  \n",
    "http://inventwithpython.com/blog/2012/04/06/stop-using-print-for-debugging-a-5-minute-quickstart-guide-to-pythons-logging-module/  "
   ]
  },
  {
   "cell_type": "markdown",
   "metadata": {},
   "source": [
    "https://docs.python.org/3/library/logging.html\n",
    "The basic classes defined by the module, together with their functions, are listed below:\n",
    "- **Loggers** expose the interface that application code directly uses.\n",
    "- **Handlers** send the log records (created by loggers) to the appropriate destination.\n",
    "- **Filters** provide a finer grained facility for determining which log records to output.\n",
    "- **Formatters** specify the layout of log records in the final output."
   ]
  },
  {
   "cell_type": "markdown",
   "metadata": {},
   "source": [
    "## Extras to remember\n",
    "- Multiple calls to `getLogger(name)` with the same name will *always* return a reference to the same `Logger` object.  \n",
    "- The `name` is potentially a period-separated hierarchical value, like `foo.bar.baz`.  \n",
    "- Loggers that are further down in the hierarchical list are children of loggers higher up in the list. "
   ]
  },
  {
   "cell_type": "markdown",
   "metadata": {},
   "source": [
    "# Logging flow\n",
    "source: https://docs.python.org/3/howto/logging.html#logging-flow\n",
    "![Diagram of logging flow](https://docs.python.org/3/_images/logging_flow.png)"
   ]
  },
  {
   "cell_type": "markdown",
   "metadata": {},
   "source": [
    "# Built-in handlers\n",
    "- StreamHandler\n",
    "- FileHandler\n",
    "- RotatingFileHandler\n",
    "- TimedRotatingFileHandler\n",
    "- SMTPHandler\n",
    "- WatchedFileHandler\n",
    "- QueueHandler\n",
    "- NullHandler\n",
    "\n",
    "Descriptiosn and more at https://docs.python.org/3/howto/logging.html#useful-handlers"
   ]
  },
  {
   "cell_type": "code",
   "execution_count": 1,
   "metadata": {},
   "outputs": [],
   "source": [
    "import logging"
   ]
  },
  {
   "cell_type": "code",
   "execution_count": 2,
   "metadata": {},
   "outputs": [
    {
     "name": "stdout",
     "output_type": "stream",
     "text": [
      "20\n"
     ]
    }
   ],
   "source": [
    "print(logging.INFO)"
   ]
  },
  {
   "cell_type": "code",
   "execution_count": 3,
   "metadata": {
    "scrolled": true
   },
   "outputs": [
    {
     "data": {
      "text/html": [
       "<div>\n",
       "<style scoped>\n",
       "    .dataframe tbody tr th:only-of-type {\n",
       "        vertical-align: middle;\n",
       "    }\n",
       "\n",
       "    .dataframe tbody tr th {\n",
       "        vertical-align: top;\n",
       "    }\n",
       "\n",
       "    .dataframe thead th {\n",
       "        text-align: right;\n",
       "    }\n",
       "</style>\n",
       "<table border=\"1\" class=\"dataframe\">\n",
       "  <thead>\n",
       "    <tr style=\"text-align: right;\">\n",
       "      <th></th>\n",
       "      <th>LEVEL</th>\n",
       "      <th>CODE</th>\n",
       "    </tr>\n",
       "  </thead>\n",
       "  <tbody>\n",
       "    <tr>\n",
       "      <td>0</td>\n",
       "      <td>NOTSET</td>\n",
       "      <td>0</td>\n",
       "    </tr>\n",
       "    <tr>\n",
       "      <td>1</td>\n",
       "      <td>DEBUG</td>\n",
       "      <td>10</td>\n",
       "    </tr>\n",
       "    <tr>\n",
       "      <td>2</td>\n",
       "      <td>INFO</td>\n",
       "      <td>20</td>\n",
       "    </tr>\n",
       "    <tr>\n",
       "      <td>3</td>\n",
       "      <td>WARNING</td>\n",
       "      <td>30</td>\n",
       "    </tr>\n",
       "    <tr>\n",
       "      <td>4</td>\n",
       "      <td>ERROR</td>\n",
       "      <td>40</td>\n",
       "    </tr>\n",
       "    <tr>\n",
       "      <td>5</td>\n",
       "      <td>CRITICAL</td>\n",
       "      <td>50</td>\n",
       "    </tr>\n",
       "  </tbody>\n",
       "</table>\n",
       "</div>"
      ],
      "text/plain": [
       "      LEVEL  CODE\n",
       "0    NOTSET     0\n",
       "1     DEBUG    10\n",
       "2      INFO    20\n",
       "3   WARNING    30\n",
       "4     ERROR    40\n",
       "5  CRITICAL    50"
      ]
     },
     "execution_count": 3,
     "metadata": {},
     "output_type": "execute_result"
    }
   ],
   "source": [
    "import pandas as pd\n",
    "level_names = 'NOTSET,DEBUG,INFO,WARNING,ERROR,CRITICAL'.split(',')\n",
    "levels = pd.DataFrame.from_dict({'LEVEL': level_names, 'CODE':[getattr(logging, lvl) for lvl in level_names]}, \n",
    "                                orient='columns')\n",
    "levels.sort_values(by='CODE')"
   ]
  },
  {
   "cell_type": "markdown",
   "metadata": {},
   "source": [
    "Not advised but you can use the root logger directly.  \n",
    "It will at the Warning level and send output to `stderr` by default."
   ]
  },
  {
   "cell_type": "code",
   "execution_count": 4,
   "metadata": {},
   "outputs": [],
   "source": [
    "logging.debug('a debug message')  # debug < warning, so no output"
   ]
  },
  {
   "cell_type": "code",
   "execution_count": 5,
   "metadata": {},
   "outputs": [],
   "source": [
    "logging.info('an info message')  # info < warning, so no output"
   ]
  },
  {
   "cell_type": "code",
   "execution_count": 6,
   "metadata": {},
   "outputs": [
    {
     "name": "stderr",
     "output_type": "stream",
     "text": [
      "WARNING:root:a warning message\n"
     ]
    }
   ],
   "source": [
    "logging.warning('a warning message')"
   ]
  },
  {
   "cell_type": "code",
   "execution_count": 7,
   "metadata": {},
   "outputs": [
    {
     "name": "stderr",
     "output_type": "stream",
     "text": [
      "WARNING:root:a warning message\n"
     ]
    },
    {
     "name": "stdout",
     "output_type": "stream",
     "text": [
      "QWERTY\n"
     ]
    },
    {
     "data": {
      "text/plain": [
       "'xyz'"
      ]
     },
     "execution_count": 7,
     "metadata": {},
     "output_type": "execute_result"
    }
   ],
   "source": [
    "# jupyter pins stderr, stdout output above the output cell. All other output will be below.\n",
    "print('QWERTY')\n",
    "logging.warning('a warning message')\n",
    "'xyz'"
   ]
  },
  {
   "cell_type": "code",
   "execution_count": 8,
   "metadata": {
    "scrolled": true
   },
   "outputs": [
    {
     "name": "stderr",
     "output_type": "stream",
     "text": [
      "ERROR:root:an error message\n"
     ]
    }
   ],
   "source": [
    "logging.error('an error message')"
   ]
  }
 ],
 "metadata": {
  "celltoolbar": "Raw Cell Format",
  "kernelspec": {
   "display_name": "Python 3",
   "language": "python",
   "name": "python3"
  },
  "language_info": {
   "codemirror_mode": {
    "name": "ipython",
    "version": 3
   },
   "file_extension": ".py",
   "mimetype": "text/x-python",
   "name": "python",
   "nbconvert_exporter": "python",
   "pygments_lexer": "ipython3",
   "version": "3.7.4"
  },
  "pycharm": {
   "stem_cell": {
    "cell_type": "raw",
    "metadata": {
     "collapsed": false
    },
    "source": []
   }
  }
 },
 "nbformat": 4,
 "nbformat_minor": 2
}

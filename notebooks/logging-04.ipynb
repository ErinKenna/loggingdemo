{
 "cells": [
  {
   "cell_type": "markdown",
   "metadata": {},
   "source": [
    "# Start a basic logger: use a file handler"
   ]
  },
  {
   "cell_type": "markdown",
   "metadata": {},
   "source": [
    "Same as previous notebook. Just run it all to see what happens when the `basicConfig` is given a `filename`"
   ]
  },
  {
   "cell_type": "code",
   "execution_count": 1,
   "metadata": {},
   "outputs": [],
   "source": [
    "import sys\n",
    "import logging"
   ]
  },
  {
   "cell_type": "markdown",
   "metadata": {},
   "source": [
    "**Using different call and formatting with `basicConfig()` just for something different**"
   ]
  },
  {
   "cell_type": "code",
   "execution_count": 2,
   "metadata": {},
   "outputs": [],
   "source": [
    "logging.basicConfig(filename='../logs/example.log', format='{asctime} - {name} - {levelname} - {message}', \n",
    "                    style='{', level=logging.DEBUG)"
   ]
  },
  {
   "cell_type": "markdown",
   "metadata": {},
   "source": [
    "See https://docs.python.org/3/library/logging.html#logrecord-attributes for a comprehensive list of attributes you can use in the log formatter.\n"
   ]
  },
  {
   "cell_type": "code",
   "execution_count": 3,
   "metadata": {},
   "outputs": [],
   "source": [
    "log = logging.getLogger()"
   ]
  },
  {
   "cell_type": "code",
   "execution_count": 4,
   "metadata": {},
   "outputs": [],
   "source": [
    "log.level = logging.DEBUG"
   ]
  },
  {
   "cell_type": "code",
   "execution_count": 5,
   "metadata": {},
   "outputs": [],
   "source": [
    "logging.debug('A debug message')"
   ]
  },
  {
   "cell_type": "code",
   "execution_count": 6,
   "metadata": {},
   "outputs": [],
   "source": [
    "logging.info('An info message')"
   ]
  },
  {
   "cell_type": "code",
   "execution_count": 7,
   "metadata": {},
   "outputs": [],
   "source": [
    "logging.error('An error message')"
   ]
  },
  {
   "cell_type": "code",
   "execution_count": 8,
   "metadata": {},
   "outputs": [],
   "source": [
    "try:\n",
    "    bad_operation = 100/0\n",
    "except:\n",
    "    logging.error('An error with traceback', exc_info=True)"
   ]
  },
  {
   "cell_type": "code",
   "execution_count": 9,
   "metadata": {},
   "outputs": [],
   "source": [
    "import requests"
   ]
  },
  {
   "cell_type": "code",
   "execution_count": 10,
   "metadata": {},
   "outputs": [
    {
     "data": {
      "text/plain": [
       "b'<!doctype html><html itemscope=\"\" itemtype=\"http://schema.org/WebPage\" lang=\"en-AU\"><head><meta cont'"
      ]
     },
     "execution_count": 10,
     "metadata": {},
     "output_type": "execute_result"
    }
   ],
   "source": [
    "# clean request\n",
    "data = requests.get('http://www.google.com')\n",
    "data.content[:100]"
   ]
  },
  {
   "cell_type": "code",
   "execution_count": 11,
   "metadata": {},
   "outputs": [],
   "source": [
    "url = \"https://ws.data.csiro.au/collections\"\n",
    "headers = {\"Accept\":\"application/json\"}\n",
    "queryParams = {\"q\":\"water+quality\",\n",
    "               \"p\":1, \"rpp\":15, \"soud\":False,\n",
    "               \"psd\":\"2012-03-29T17:21:37+10:00\", \"ped\":\"2017-12-29T09:22:32+11:00\",\n",
    "               \"sb\":\"RELEVANCE\"}\n",
    "r = requests.get(url, headers=headers, params=queryParams)"
   ]
  },
  {
   "cell_type": "code",
   "execution_count": 12,
   "metadata": {
    "scrolled": true
   },
   "outputs": [
    {
     "name": "stdout",
     "output_type": "stream",
     "text": [
      "Mitchell River water quality sample data\n",
      "Macrophyte and water quality remote sensing of Western Port Bay\n",
      "From Sensors to Solutions\n",
      "WAMSI 2 - KMRP Project 2.2.9: Historical Water Quality using sediment records\n",
      "Water quality from septic tanks and aerobic wastewater treatment systems\n",
      "Water quality data from catchment, reedbed and groundwater bores\n",
      "Clogging and water quality studies (part 1) - Floreat infiltration gallery\n",
      "TERN Supersites Water Quality Data 2014\n",
      "Biorig total colour difference data\n",
      "Time-series for plankton and physio-chemistry of Logan&apos;s Dam\n",
      "TERN Supersites Water Quality Data 2009\n",
      "TERN Supersites Water Quality Data 2012\n",
      "TERN Supersites Water Quality Data 2010\n",
      "Phreeqc model for MARSUO infrastructure and water quality impact assessment\n",
      "TERN Supersites Water Quality Data 2011\n"
     ]
    }
   ],
   "source": [
    "[print(collection.get('title')) for collection in r.json().get('dataCollection')];"
   ]
  },
  {
   "cell_type": "code",
   "execution_count": 13,
   "metadata": {},
   "outputs": [
    {
     "name": "stdout",
     "output_type": "stream",
     "text": [
      "bad_url = https://ws.data.csiro.au/collectionswhoops/\n"
     ]
    }
   ],
   "source": [
    "bad_url = url + 'whoops/'\n",
    "print(f'bad_url = {bad_url}')\n",
    "r = requests.get(url+'x', headers=headers)\n",
    "if not(200 <= r.status_code < 300):\n",
    "    log.debug(f'Got status code: {r.status_code}')\n",
    "else:\n",
    "    log.info(f'totalResults = {r.json().get(\"totalResults\")}')"
   ]
  },
  {
   "cell_type": "code",
   "execution_count": 14,
   "metadata": {},
   "outputs": [],
   "source": [
    "try:\n",
    "    data = requests.get('http://www.google.con')\n",
    "except:\n",
    "    log.error('Broked')"
   ]
  },
  {
   "cell_type": "code",
   "execution_count": 15,
   "metadata": {},
   "outputs": [],
   "source": [
    "try:\n",
    "    data = requests.get('http://www.google.con')\n",
    "except:\n",
    "    log.error('Broked it', exc_info=True)"
   ]
  },
  {
   "cell_type": "code",
   "execution_count": 16,
   "metadata": {},
   "outputs": [],
   "source": [
    "try: # a bad url\n",
    "    data = requests.get('http://www.google.con')\n",
    "except:\n",
    "    log.exception('An Exception!!')"
   ]
  },
  {
   "cell_type": "markdown",
   "metadata": {},
   "source": [
    "**Examine the above traceback and see what exception was raised.  \n",
    "Import this exception and handle it.**"
   ]
  },
  {
   "cell_type": "code",
   "execution_count": 17,
   "metadata": {},
   "outputs": [],
   "source": [
    "from requests.exceptions import ConnectionError"
   ]
  },
  {
   "cell_type": "code",
   "execution_count": 18,
   "metadata": {},
   "outputs": [],
   "source": [
    "try:\n",
    "    data = requests.get('http://www.google.con')\n",
    "except ConnectionError:\n",
    "    log.warning('Connection error')\n",
    "    # <insert custom code>\n",
    "    # exit script\n",
    "    # sys.exit(1)\n",
    "except:\n",
    "    log.error('really wrong')"
   ]
  },
  {
   "cell_type": "markdown",
   "metadata": {},
   "source": [
    "So we don't see any messages.  \n",
    "Go and have a look at the `example.log` file in the `logs` directory.  \n",
    "What happens when we re-run the code?"
   ]
  }
 ],
 "metadata": {
  "celltoolbar": "Raw Cell Format",
  "kernelspec": {
   "display_name": "Python 3",
   "language": "python",
   "name": "python3"
  },
  "language_info": {
   "codemirror_mode": {
    "name": "ipython",
    "version": 3
   },
   "file_extension": ".py",
   "mimetype": "text/x-python",
   "name": "python",
   "nbconvert_exporter": "python",
   "pygments_lexer": "ipython3",
   "version": "3.7.4"
  }
 },
 "nbformat": 4,
 "nbformat_minor": 2
}

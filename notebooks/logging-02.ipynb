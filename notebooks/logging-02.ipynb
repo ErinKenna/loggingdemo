{
 "cells": [
  {
   "cell_type": "markdown",
   "metadata": {},
   "source": [
    "# Start a basic logger: simple settings"
   ]
  },
  {
   "cell_type": "code",
   "execution_count": 1,
   "metadata": {},
   "outputs": [],
   "source": [
    "import sys\n",
    "import logging"
   ]
  },
  {
   "cell_type": "code",
   "execution_count": 2,
   "metadata": {},
   "outputs": [],
   "source": [
    "logging.basicConfig(stream=sys.stdout, format='%(asctime)s - %(levelname)s - %(message)s')"
   ]
  },
  {
   "cell_type": "markdown",
   "metadata": {},
   "source": [
    "See https://docs.python.org/3/library/logging.html#logrecord-attributes for a comprehensive list of attributes you can use in the log formatter.\n"
   ]
  },
  {
   "cell_type": "code",
   "execution_count": 3,
   "metadata": {},
   "outputs": [],
   "source": [
    "log = logging.getLogger()"
   ]
  },
  {
   "cell_type": "code",
   "execution_count": 4,
   "metadata": {},
   "outputs": [],
   "source": [
    "log.level = logging.DEBUG"
   ]
  },
  {
   "cell_type": "code",
   "execution_count": 5,
   "metadata": {
    "scrolled": true
   },
   "outputs": [
    {
     "data": {
      "text/plain": [
       "'root'"
      ]
     },
     "execution_count": 5,
     "metadata": {},
     "output_type": "execute_result"
    }
   ],
   "source": [
    "log.name"
   ]
  },
  {
   "cell_type": "code",
   "execution_count": 6,
   "metadata": {
    "scrolled": true
   },
   "outputs": [
    {
     "name": "stdout",
     "output_type": "stream",
     "text": [
      "10\n",
      "DEBUG\n"
     ]
    }
   ],
   "source": [
    "print(log.level)\n",
    "print(logging.getLevelName(log.level))  # logging has a method to convert the level integer to a name"
   ]
  },
  {
   "cell_type": "code",
   "execution_count": 7,
   "metadata": {},
   "outputs": [
    {
     "name": "stdout",
     "output_type": "stream",
     "text": [
      "2019-09-11 18:09:05,877 - DEBUG - A debug message\n"
     ]
    }
   ],
   "source": [
    "log.debug('A debug message')"
   ]
  },
  {
   "cell_type": "code",
   "execution_count": 8,
   "metadata": {},
   "outputs": [
    {
     "name": "stdout",
     "output_type": "stream",
     "text": [
      "print: logger is using stdout\n",
      "2019-09-11 18:09:07,458 - INFO - An info message\n",
      "print: so log output is similar to print now\n"
     ]
    }
   ],
   "source": [
    "print('print: logger is using stdout')\n",
    "log.info('An info message')\n",
    "print('print: so log output is similar to print now')"
   ]
  },
  {
   "cell_type": "code",
   "execution_count": 9,
   "metadata": {},
   "outputs": [
    {
     "name": "stdout",
     "output_type": "stream",
     "text": [
      "2019-09-11 18:09:08,736 - ERROR - An error message\n"
     ]
    }
   ],
   "source": [
    "log.error('An error message')"
   ]
  },
  {
   "cell_type": "code",
   "execution_count": 10,
   "metadata": {},
   "outputs": [
    {
     "name": "stdout",
     "output_type": "stream",
     "text": [
      "2019-09-11 18:09:41,772 - ERROR - An error\n"
     ]
    }
   ],
   "source": [
    "try:\n",
    "    bad_operation = 100/0\n",
    "except:\n",
    "    log.error('An error')"
   ]
  },
  {
   "cell_type": "code",
   "execution_count": 11,
   "metadata": {},
   "outputs": [
    {
     "name": "stdout",
     "output_type": "stream",
     "text": [
      "2019-09-11 18:09:46,133 - ERROR - An error with traceback\n",
      "Traceback (most recent call last):\n",
      "  File \"<ipython-input-11-e30af6ba0f17>\", line 2, in <module>\n",
      "    bad_operation = 100/0\n",
      "ZeroDivisionError: division by zero\n"
     ]
    }
   ],
   "source": [
    "try:\n",
    "    bad_operation = 100/0\n",
    "except:\n",
    "    log.error('An error with traceback', exc_info=True)"
   ]
  },
  {
   "cell_type": "code",
   "execution_count": 12,
   "metadata": {},
   "outputs": [
    {
     "name": "stdout",
     "output_type": "stream",
     "text": [
      "2019-09-11 18:10:15,482 - ERROR - You should provide something other than zero for the denominator\n"
     ]
    }
   ],
   "source": [
    "try:\n",
    "    bad_operation = 100/0\n",
    "except ZeroDivisionError:\n",
    "    log.error('You should provide something other than zero for the denominator')\n",
    "except:\n",
    "    log.error('An error with traceback', exc_info=True)"
   ]
  },
  {
   "cell_type": "code",
   "execution_count": 13,
   "metadata": {},
   "outputs": [],
   "source": [
    "import requests"
   ]
  },
  {
   "cell_type": "code",
   "execution_count": 14,
   "metadata": {},
   "outputs": [
    {
     "name": "stdout",
     "output_type": "stream",
     "text": [
      "2019-09-11 18:10:23,627 - DEBUG - Starting new HTTP connection (1): www.google.com:80\n",
      "2019-09-11 18:10:23,981 - DEBUG - http://www.google.com:80 \"GET / HTTP/1.1\" 200 5016\n"
     ]
    },
    {
     "data": {
      "text/plain": [
       "b'<!doctype html><html itemscope=\"\" itemtype=\"http://schema.org/WebPage\" lang=\"en-AU\"><head><meta cont'"
      ]
     },
     "execution_count": 14,
     "metadata": {},
     "output_type": "execute_result"
    }
   ],
   "source": [
    "# clean request\n",
    "data = requests.get('http://www.google.com')\n",
    "data.content[:100]"
   ]
  },
  {
   "cell_type": "code",
   "execution_count": 15,
   "metadata": {},
   "outputs": [
    {
     "name": "stdout",
     "output_type": "stream",
     "text": [
      "2019-09-11 18:10:31,316 - DEBUG - Starting new HTTPS connection (1): ws.data.csiro.au:443\n",
      "2019-09-11 18:10:31,882 - DEBUG - https://ws.data.csiro.au:443 \"GET /collections?q=water%2Bquality&p=1&rpp=15&soud=False&psd=2012-03-29T17%3A21%3A37%2B10%3A00&ped=2017-12-29T09%3A22%3A32%2B11%3A00&sb=RELEVANCE HTTP/1.1\" 200 None\n"
     ]
    }
   ],
   "source": [
    "url = \"https://ws.data.csiro.au/collections\"\n",
    "headers = {\"Accept\":\"application/json\"}\n",
    "queryParams = {\"q\":\"water+quality\",\n",
    "               \"p\":1, \"rpp\":15, \"soud\":False,\n",
    "               \"psd\":\"2012-03-29T17:21:37+10:00\", \"ped\":\"2017-12-29T09:22:32+11:00\",\n",
    "               \"sb\":\"RELEVANCE\"}\n",
    "r = requests.get(url, headers=headers, params=queryParams)"
   ]
  },
  {
   "cell_type": "code",
   "execution_count": 16,
   "metadata": {
    "scrolled": true
   },
   "outputs": [
    {
     "name": "stdout",
     "output_type": "stream",
     "text": [
      "Mitchell River water quality sample data\n",
      "Macrophyte and water quality remote sensing of Western Port Bay\n",
      "From Sensors to Solutions\n",
      "WAMSI 2 - KMRP Project 2.2.9: Historical Water Quality using sediment records\n",
      "Water quality from septic tanks and aerobic wastewater treatment systems\n",
      "Water quality data from catchment, reedbed and groundwater bores\n",
      "Clogging and water quality studies (part 1) - Floreat infiltration gallery\n",
      "TERN Supersites Water Quality Data 2014\n",
      "Biorig total colour difference data\n",
      "Time-series for plankton and physio-chemistry of Logan&apos;s Dam\n",
      "TERN Supersites Water Quality Data 2009\n",
      "TERN Supersites Water Quality Data 2012\n",
      "TERN Supersites Water Quality Data 2010\n",
      "Phreeqc model for MARSUO infrastructure and water quality impact assessment\n",
      "TERN Supersites Water Quality Data 2011\n"
     ]
    }
   ],
   "source": [
    "[print(collection.get('title')) for collection in r.json().get('dataCollection')];"
   ]
  },
  {
   "cell_type": "code",
   "execution_count": 17,
   "metadata": {},
   "outputs": [
    {
     "name": "stdout",
     "output_type": "stream",
     "text": [
      "bad_url = https://ws.data.csiro.au/collectionswhoops/\n",
      "2019-09-11 18:11:02,961 - DEBUG - Starting new HTTPS connection (1): ws.data.csiro.au:443\n",
      "2019-09-11 18:11:03,257 - DEBUG - https://ws.data.csiro.au:443 \"GET /collectionsx HTTP/1.1\" 404 0\n",
      "2019-09-11 18:11:03,267 - DEBUG - Got status code: 404\n"
     ]
    }
   ],
   "source": [
    "bad_url = url + 'whoops/'\n",
    "print(f'bad_url = {bad_url}')\n",
    "r = requests.get(url+'x', headers=headers)\n",
    "if not(200 <= r.status_code < 300):\n",
    "    log.debug(f'Got status code: {r.status_code}')\n",
    "else:\n",
    "    log.info(f'totalResults = {r.json().get(\"totalResults\")}')"
   ]
  },
  {
   "cell_type": "code",
   "execution_count": null,
   "metadata": {},
   "outputs": [],
   "source": [
    "try:\n",
    "    data = requests.get('http://www.google.con')\n",
    "except:\n",
    "    log.error('Broked')"
   ]
  },
  {
   "cell_type": "code",
   "execution_count": null,
   "metadata": {},
   "outputs": [],
   "source": [
    "try:\n",
    "    data = requests.get('http://www.google.con')\n",
    "except:\n",
    "    log.error('Broked it', exc_info=True)"
   ]
  },
  {
   "cell_type": "code",
   "execution_count": null,
   "metadata": {},
   "outputs": [],
   "source": [
    "try: # a bad url\n",
    "    data = requests.get('http://www.google.con')\n",
    "except:\n",
    "    log.exception('An Exception!!')"
   ]
  },
  {
   "cell_type": "markdown",
   "metadata": {},
   "source": [
    "**Examine the above traceback and see what exception was raised.  \n",
    "Import this exception and handle it.**"
   ]
  },
  {
   "cell_type": "code",
   "execution_count": null,
   "metadata": {},
   "outputs": [],
   "source": [
    "from requests.exceptions import ConnectionError"
   ]
  },
  {
   "cell_type": "code",
   "execution_count": null,
   "metadata": {},
   "outputs": [],
   "source": [
    "try:\n",
    "    data = requests.get('http://www.google.con')\n",
    "except ConnectionError:\n",
    "    log.warning('Connection error')\n",
    "    # <insert custom code>\n",
    "    # exit script\n",
    "    # sys.exit(1)\n",
    "except:\n",
    "    log.error('really wrong')"
   ]
  }
 ],
 "metadata": {
  "celltoolbar": "Raw Cell Format",
  "kernelspec": {
   "display_name": "Python 3",
   "language": "python",
   "name": "python3"
  },
  "language_info": {
   "codemirror_mode": {
    "name": "ipython",
    "version": 3
   },
   "file_extension": ".py",
   "mimetype": "text/x-python",
   "name": "python",
   "nbconvert_exporter": "python",
   "pygments_lexer": "ipython3",
   "version": "3.7.4"
  }
 },
 "nbformat": 4,
 "nbformat_minor": 2
}

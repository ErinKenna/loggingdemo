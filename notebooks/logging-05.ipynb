{
 "cells": [
  {
   "cell_type": "markdown",
   "metadata": {},
   "source": [
    "# Start customising configuration\n",
    "Send INFO and lower to `stdout` and higher messages to `stderr` "
   ]
  },
  {
   "cell_type": "code",
   "execution_count": 1,
   "metadata": {},
   "outputs": [],
   "source": [
    "dummy_data = '..'.join([chr(i) for i in list(range(65,91))])"
   ]
  },
  {
   "cell_type": "code",
   "execution_count": 3,
   "metadata": {},
   "outputs": [],
   "source": [
    "import logging\n",
    "import sys\n",
    "# Create logger\n",
    "log = logging.getLogger()\n",
    "log.setLevel(logging.DEBUG)\n",
    "\n",
    "# Create STDERR handler\n",
    "handler = logging.StreamHandler(sys.stderr)\n",
    "handler.setLevel(logging.WARNING)\n",
    "\n",
    "class InfoFilter(logging.Filter):\n",
    "    \"\"\"https://streamhacker.com/2010/04/08/python-logging-filters/\"\"\"\n",
    "    def filter(self, rec):\n",
    "        return rec.levelno <= logging.INFO\n",
    "\n",
    "# Create STDOUT handler (with a filter)\n",
    "handler2 = logging.StreamHandler(sys.stdout)\n",
    "handler2.setLevel(logging.DEBUG)\n",
    "handler2.addFilter(InfoFilter())\n",
    "\n",
    "# Create formatter and add it to the handlers\n",
    "formatter = logging.Formatter('%(name)s - %(levelname)s - %(message)s')\n",
    "handler.setFormatter(formatter)\n",
    "handler2.setFormatter(formatter)\n",
    "\n",
    "# Add handlers to the logger\n",
    "log.handlers = [handler2, handler, ]"
   ]
  },
  {
   "cell_type": "code",
   "execution_count": 4,
   "metadata": {},
   "outputs": [
    {
     "name": "stdout",
     "output_type": "stream",
     "text": [
      "root - DEBUG - a debug messsage\n",
      "root - INFO - an info message\n"
     ]
    },
    {
     "name": "stderr",
     "output_type": "stream",
     "text": [
      "root - ERROR - an error message\n"
     ]
    },
    {
     "data": {
      "text/plain": [
       "'A..B..C..D..E..F..G..H..I..J..K..L..M..N..O..P..Q..R..S..T..U..V..W..X..Y..Z'"
      ]
     },
     "execution_count": 4,
     "metadata": {},
     "output_type": "execute_result"
    }
   ],
   "source": [
    "log.debug('a debug messsage')\n",
    "log.info('an info message')\n",
    "log.error('an error message')\n",
    "dummy_data"
   ]
  }
 ],
 "metadata": {
  "kernelspec": {
   "display_name": "Python 3",
   "language": "python",
   "name": "python3"
  },
  "language_info": {
   "codemirror_mode": {
    "name": "ipython",
    "version": 3
   },
   "file_extension": ".py",
   "mimetype": "text/x-python",
   "name": "python",
   "nbconvert_exporter": "python",
   "pygments_lexer": "ipython3",
   "version": "3.7.4"
  }
 },
 "nbformat": 4,
 "nbformat_minor": 2
}

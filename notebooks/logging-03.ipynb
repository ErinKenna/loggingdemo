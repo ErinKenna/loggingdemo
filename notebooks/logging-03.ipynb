{
 "cells": [
  {
   "cell_type": "markdown",
   "metadata": {},
   "source": [
    "# Start a basic logger: use level=Debug"
   ]
  },
  {
   "cell_type": "code",
   "execution_count": null,
   "metadata": {},
   "outputs": [],
   "source": [
    "import sys\n",
    "import logging"
   ]
  },
  {
   "cell_type": "markdown",
   "metadata": {},
   "source": [
    "**Using different call and formatting with `basicConfig()` just for something different**"
   ]
  },
  {
   "cell_type": "code",
   "execution_count": null,
   "metadata": {},
   "outputs": [],
   "source": [
    "logging.basicConfig(stream=sys.stdout, format='{asctime} - {name} - {levelname} - {message}', \n",
    "                    style='{', level=logging.DEBUG)"
   ]
  },
  {
   "cell_type": "markdown",
   "metadata": {},
   "source": [
    "See https://docs.python.org/3/library/logging.html#logrecord-attributes for a comprehensive list of attributes you can use in the log formatter.\n"
   ]
  },
  {
   "cell_type": "code",
   "execution_count": null,
   "metadata": {},
   "outputs": [],
   "source": [
    "log = logging.getLogger()"
   ]
  },
  {
   "cell_type": "code",
   "execution_count": null,
   "metadata": {},
   "outputs": [],
   "source": [
    "log.name"
   ]
  },
  {
   "cell_type": "code",
   "execution_count": null,
   "metadata": {},
   "outputs": [],
   "source": [
    "log.level = logging.DEBUG"
   ]
  },
  {
   "cell_type": "code",
   "execution_count": null,
   "metadata": {
    "scrolled": true
   },
   "outputs": [],
   "source": [
    "print(log.level)\n",
    "print(logging.getLevelName(log.level))"
   ]
  },
  {
   "cell_type": "code",
   "execution_count": null,
   "metadata": {},
   "outputs": [],
   "source": [
    "logging.debug('A debug message')"
   ]
  },
  {
   "cell_type": "code",
   "execution_count": null,
   "metadata": {},
   "outputs": [],
   "source": [
    "logging.info('An info message')"
   ]
  },
  {
   "cell_type": "code",
   "execution_count": null,
   "metadata": {},
   "outputs": [],
   "source": [
    "logging.error('An error message')"
   ]
  },
  {
   "cell_type": "code",
   "execution_count": null,
   "metadata": {},
   "outputs": [],
   "source": [
    "try:\n",
    "    bad_operation = 100/0\n",
    "except:\n",
    "    logging.error('An error with traceback', exc_info=True)"
   ]
  },
  {
   "cell_type": "code",
   "execution_count": null,
   "metadata": {},
   "outputs": [],
   "source": [
    "import requests"
   ]
  },
  {
   "cell_type": "code",
   "execution_count": null,
   "metadata": {},
   "outputs": [],
   "source": [
    "# clean request\n",
    "data = requests.get('http://www.google.com')\n",
    "data.content[:100]"
   ]
  },
  {
   "cell_type": "code",
   "execution_count": null,
   "metadata": {},
   "outputs": [],
   "source": [
    "url = \"https://ws.data.csiro.au/collections\"\n",
    "headers = {\"Accept\":\"application/json\"}\n",
    "queryParams = {\"q\":\"water+quality\",\n",
    "               \"p\":1, \"rpp\":15, \"soud\":False,\n",
    "               \"psd\":\"2012-03-29T17:21:37+10:00\", \"ped\":\"2017-12-29T09:22:32+11:00\",\n",
    "               \"sb\":\"RELEVANCE\"}\n",
    "r = requests.get(url, headers=headers, params=queryParams)"
   ]
  },
  {
   "cell_type": "code",
   "execution_count": null,
   "metadata": {
    "scrolled": true
   },
   "outputs": [],
   "source": [
    "[print(collection.get('title')) for collection in r.json().get('dataCollection')];"
   ]
  },
  {
   "cell_type": "code",
   "execution_count": null,
   "metadata": {},
   "outputs": [],
   "source": [
    "bad_url = url + 'whoops/'\n",
    "print(f'bad_url = {bad_url}')\n",
    "r = requests.get(url+'x', headers=headers)\n",
    "if not(200 <= r.status_code < 300):\n",
    "    log.debug(f'Got status code: {r.status_code}')\n",
    "else:\n",
    "    log.info(f'totalResults = {r.json().get(\"totalResults\")}')"
   ]
  },
  {
   "cell_type": "code",
   "execution_count": null,
   "metadata": {},
   "outputs": [],
   "source": [
    "try:\n",
    "    data = requests.get('http://www.google.con')\n",
    "except:\n",
    "    log.error('Broked')"
   ]
  },
  {
   "cell_type": "code",
   "execution_count": null,
   "metadata": {},
   "outputs": [],
   "source": [
    "try:\n",
    "    data = requests.get('http://www.google.con')\n",
    "except:\n",
    "    log.error('Broked it', exc_info=True)"
   ]
  },
  {
   "cell_type": "code",
   "execution_count": null,
   "metadata": {},
   "outputs": [],
   "source": [
    "try: # a bad url\n",
    "    data = requests.get('http://www.google.con')\n",
    "except:\n",
    "    log.exception('An Exception!!')"
   ]
  },
  {
   "cell_type": "markdown",
   "metadata": {},
   "source": [
    "**Examine the above traceback and see what exception was raised.  \n",
    "Import this exception and handle it.**"
   ]
  },
  {
   "cell_type": "code",
   "execution_count": null,
   "metadata": {},
   "outputs": [],
   "source": [
    "from requests.exceptions import ConnectionError"
   ]
  },
  {
   "cell_type": "code",
   "execution_count": null,
   "metadata": {},
   "outputs": [],
   "source": [
    "try:\n",
    "    data = requests.get('http://www.google.con')\n",
    "except ConnectionError:\n",
    "    log.warning('Connection error')\n",
    "    # <insert custom code>\n",
    "    # exit script\n",
    "    # sys.exit(1)\n",
    "except:\n",
    "    log.error('really wrong')"
   ]
  }
 ],
 "metadata": {
  "celltoolbar": "Raw Cell Format",
  "kernelspec": {
   "display_name": "Python 3",
   "language": "python",
   "name": "python3"
  },
  "language_info": {
   "codemirror_mode": {
    "name": "ipython",
    "version": 3
   },
   "file_extension": ".py",
   "mimetype": "text/x-python",
   "name": "python",
   "nbconvert_exporter": "python",
   "pygments_lexer": "ipython3",
   "version": "3.7.4"
  }
 },
 "nbformat": 4,
 "nbformat_minor": 2
}
